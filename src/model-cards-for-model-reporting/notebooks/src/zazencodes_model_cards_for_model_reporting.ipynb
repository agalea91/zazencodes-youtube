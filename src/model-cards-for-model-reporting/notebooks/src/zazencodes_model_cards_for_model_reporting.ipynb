{
 "cells": [
  {
   "cell_type": "code",
   "execution_count": 35,
   "id": "f815410d",
   "metadata": {},
   "outputs": [
    {
     "name": "stdout",
     "output_type": "stream",
     "text": [
      "Mean Squared Error: 0.4643015102452407\n"
     ]
    }
   ],
   "source": [
    "# Import necessary libraries\n",
    "import numpy as np\n",
    "import pandas as pd\n",
    "from sklearn.datasets import fetch_california_housing\n",
    "from sklearn.model_selection import train_test_split\n",
    "from sklearn.linear_model import LinearRegression\n",
    "from sklearn.preprocessing import PolynomialFeatures\n",
    "from sklearn.metrics import mean_squared_error\n",
    "\n",
    "# Load the California Housing dataset\n",
    "california_housing = fetch_california_housing()\n",
    "data = pd.DataFrame(california_housing.data, columns=california_housing.feature_names)\n",
    "target = pd.DataFrame(california_housing.target, columns=[\"MEDV\"])\n",
    "\n",
    "# Split the dataset into training and testing sets\n",
    "X_train, X_test, y_train, y_test = train_test_split(data, target, test_size=0.2, random_state=42)\n",
    "\n",
    "# Apply polynomial feature extraction\n",
    "degree = 2  # You can change the degree as needed\n",
    "poly = PolynomialFeatures(degree=degree)\n",
    "X_train_poly = poly.fit_transform(X_train)\n",
    "X_test_poly = poly.transform(X_test)\n",
    "\n",
    "# Initialize and train the linear regression model\n",
    "model = LinearRegression()\n",
    "model.fit(X_train_poly, y_train)\n",
    "\n",
    "# Make predictions on the test set\n",
    "y_pred = model.predict(X_test_poly)\n",
    "\n",
    "# Calculate Mean Squared Error (MSE) as the evaluation metric\n",
    "mse = mean_squared_error(y_test, y_pred)\n",
    "print(f\"Mean Squared Error: {mse}\")\n"
   ]
  },
  {
   "cell_type": "code",
   "execution_count": 37,
   "id": "ad63aebe",
   "metadata": {},
   "outputs": [
    {
     "data": {
      "text/plain": [
       "{'data': array([[   8.3252    ,   41.        ,    6.98412698, ...,    2.55555556,\n",
       "           37.88      , -122.23      ],\n",
       "        [   8.3014    ,   21.        ,    6.23813708, ...,    2.10984183,\n",
       "           37.86      , -122.22      ],\n",
       "        [   7.2574    ,   52.        ,    8.28813559, ...,    2.80225989,\n",
       "           37.85      , -122.24      ],\n",
       "        ...,\n",
       "        [   1.7       ,   17.        ,    5.20554273, ...,    2.3256351 ,\n",
       "           39.43      , -121.22      ],\n",
       "        [   1.8672    ,   18.        ,    5.32951289, ...,    2.12320917,\n",
       "           39.43      , -121.32      ],\n",
       "        [   2.3886    ,   16.        ,    5.25471698, ...,    2.61698113,\n",
       "           39.37      , -121.24      ]]),\n",
       " 'target': array([4.526, 3.585, 3.521, ..., 0.923, 0.847, 0.894]),\n",
       " 'frame': None,\n",
       " 'target_names': ['MedHouseVal'],\n",
       " 'feature_names': ['MedInc',\n",
       "  'HouseAge',\n",
       "  'AveRooms',\n",
       "  'AveBedrms',\n",
       "  'Population',\n",
       "  'AveOccup',\n",
       "  'Latitude',\n",
       "  'Longitude'],\n",
       " 'DESCR': '.. _california_housing_dataset:\\n\\nCalifornia Housing dataset\\n--------------------------\\n\\n**Data Set Characteristics:**\\n\\n    :Number of Instances: 20640\\n\\n    :Number of Attributes: 8 numeric, predictive attributes and the target\\n\\n    :Attribute Information:\\n        - MedInc        median income in block group\\n        - HouseAge      median house age in block group\\n        - AveRooms      average number of rooms per household\\n        - AveBedrms     average number of bedrooms per household\\n        - Population    block group population\\n        - AveOccup      average number of household members\\n        - Latitude      block group latitude\\n        - Longitude     block group longitude\\n\\n    :Missing Attribute Values: None\\n\\nThis dataset was obtained from the StatLib repository.\\nhttps://www.dcc.fc.up.pt/~ltorgo/Regression/cal_housing.html\\n\\nThe target variable is the median house value for California districts,\\nexpressed in hundreds of thousands of dollars ($100,000).\\n\\nThis dataset was derived from the 1990 U.S. census, using one row per census\\nblock group. A block group is the smallest geographical unit for which the U.S.\\nCensus Bureau publishes sample data (a block group typically has a population\\nof 600 to 3,000 people).\\n\\nA household is a group of people residing within a home. Since the average\\nnumber of rooms and bedrooms in this dataset are provided per household, these\\ncolumns may take surprisingly large values for block groups with few households\\nand many empty houses, such as vacation resorts.\\n\\nIt can be downloaded/loaded using the\\n:func:`sklearn.datasets.fetch_california_housing` function.\\n\\n.. topic:: References\\n\\n    - Pace, R. Kelley and Ronald Barry, Sparse Spatial Autoregressions,\\n      Statistics and Probability Letters, 33 (1997) 291-297\\n'}"
      ]
     },
     "execution_count": 37,
     "metadata": {},
     "output_type": "execute_result"
    }
   ],
   "source": [
    "california_housing"
   ]
  },
  {
   "cell_type": "code",
   "execution_count": 42,
   "id": "e5c75a9b",
   "metadata": {},
   "outputs": [
    {
     "name": "stdout",
     "output_type": "stream",
     "text": [
      ".. _california_housing_dataset:\n",
      "\n",
      "California Housing dataset\n",
      "--------------------------\n",
      "\n",
      "**Data Set Characteristics:**\n",
      "\n",
      "    :Number of Instances: 20640\n",
      "\n",
      "    :Number of Attributes: 8 numeric, predictive attributes and the target\n",
      "\n",
      "    :Attribute Information:\n",
      "        - MedInc        median income in block group\n",
      "        - HouseAge      median house age in block group\n",
      "        - AveRooms      average number of rooms per household\n",
      "        - AveBedrms     average number of bedrooms per household\n",
      "        - Population    block group population\n",
      "        - AveOccup      average number of household members\n",
      "        - Latitude      block group latitude\n",
      "        - Longitude     block group longitude\n",
      "\n",
      "    :Missing Attribute Values: None\n",
      "\n",
      "This dataset was obtained from the StatLib repository.\n",
      "https://www.dcc.fc.up.pt/~ltorgo/Regression/cal_housing.html\n",
      "\n",
      "The target variable is the median house value for California districts,\n",
      "expressed in hundreds of thousands of dollars ($100,000).\n",
      "\n",
      "This dataset was derived from the 1990 U.S. census, using one row per census\n",
      "block group. A block group is the smallest geographical unit for which the U.S.\n",
      "Census Bureau publishes sample data (a block group typically has a population\n",
      "of 600 to 3,000 people).\n",
      "\n",
      "A household is a group of people residing within a home. Since the average\n",
      "number of rooms and bedrooms in this dataset are provided per household, these\n",
      "columns may take surprisingly large values for block groups with few households\n",
      "and many empty houses, such as vacation resorts.\n",
      "\n",
      "It can be downloaded/loaded using the\n",
      ":func:`sklearn.datasets.fetch_california_housing` function.\n",
      "\n",
      ".. topic:: References\n",
      "\n",
      "    - Pace, R. Kelley and Ronald Barry, Sparse Spatial Autoregressions,\n",
      "      Statistics and Probability Letters, 33 (1997) 291-297\n",
      "\n"
     ]
    }
   ],
   "source": [
    "print(california_housing[\"DESCR\"])"
   ]
  },
  {
   "cell_type": "code",
   "execution_count": 38,
   "id": "ab6550aa",
   "metadata": {},
   "outputs": [
    {
     "data": {
      "text/html": [
       "<div>\n",
       "<style scoped>\n",
       "    .dataframe tbody tr th:only-of-type {\n",
       "        vertical-align: middle;\n",
       "    }\n",
       "\n",
       "    .dataframe tbody tr th {\n",
       "        vertical-align: top;\n",
       "    }\n",
       "\n",
       "    .dataframe thead th {\n",
       "        text-align: right;\n",
       "    }\n",
       "</style>\n",
       "<table border=\"1\" class=\"dataframe\">\n",
       "  <thead>\n",
       "    <tr style=\"text-align: right;\">\n",
       "      <th></th>\n",
       "      <th>MedInc</th>\n",
       "      <th>HouseAge</th>\n",
       "      <th>AveRooms</th>\n",
       "      <th>AveBedrms</th>\n",
       "      <th>Population</th>\n",
       "      <th>AveOccup</th>\n",
       "      <th>Latitude</th>\n",
       "      <th>Longitude</th>\n",
       "    </tr>\n",
       "  </thead>\n",
       "  <tbody>\n",
       "    <tr>\n",
       "      <th>0</th>\n",
       "      <td>8.3252</td>\n",
       "      <td>41.0</td>\n",
       "      <td>6.984127</td>\n",
       "      <td>1.023810</td>\n",
       "      <td>322.0</td>\n",
       "      <td>2.555556</td>\n",
       "      <td>37.88</td>\n",
       "      <td>-122.23</td>\n",
       "    </tr>\n",
       "    <tr>\n",
       "      <th>1</th>\n",
       "      <td>8.3014</td>\n",
       "      <td>21.0</td>\n",
       "      <td>6.238137</td>\n",
       "      <td>0.971880</td>\n",
       "      <td>2401.0</td>\n",
       "      <td>2.109842</td>\n",
       "      <td>37.86</td>\n",
       "      <td>-122.22</td>\n",
       "    </tr>\n",
       "    <tr>\n",
       "      <th>2</th>\n",
       "      <td>7.2574</td>\n",
       "      <td>52.0</td>\n",
       "      <td>8.288136</td>\n",
       "      <td>1.073446</td>\n",
       "      <td>496.0</td>\n",
       "      <td>2.802260</td>\n",
       "      <td>37.85</td>\n",
       "      <td>-122.24</td>\n",
       "    </tr>\n",
       "    <tr>\n",
       "      <th>3</th>\n",
       "      <td>5.6431</td>\n",
       "      <td>52.0</td>\n",
       "      <td>5.817352</td>\n",
       "      <td>1.073059</td>\n",
       "      <td>558.0</td>\n",
       "      <td>2.547945</td>\n",
       "      <td>37.85</td>\n",
       "      <td>-122.25</td>\n",
       "    </tr>\n",
       "    <tr>\n",
       "      <th>4</th>\n",
       "      <td>3.8462</td>\n",
       "      <td>52.0</td>\n",
       "      <td>6.281853</td>\n",
       "      <td>1.081081</td>\n",
       "      <td>565.0</td>\n",
       "      <td>2.181467</td>\n",
       "      <td>37.85</td>\n",
       "      <td>-122.25</td>\n",
       "    </tr>\n",
       "    <tr>\n",
       "      <th>...</th>\n",
       "      <td>...</td>\n",
       "      <td>...</td>\n",
       "      <td>...</td>\n",
       "      <td>...</td>\n",
       "      <td>...</td>\n",
       "      <td>...</td>\n",
       "      <td>...</td>\n",
       "      <td>...</td>\n",
       "    </tr>\n",
       "    <tr>\n",
       "      <th>20635</th>\n",
       "      <td>1.5603</td>\n",
       "      <td>25.0</td>\n",
       "      <td>5.045455</td>\n",
       "      <td>1.133333</td>\n",
       "      <td>845.0</td>\n",
       "      <td>2.560606</td>\n",
       "      <td>39.48</td>\n",
       "      <td>-121.09</td>\n",
       "    </tr>\n",
       "    <tr>\n",
       "      <th>20636</th>\n",
       "      <td>2.5568</td>\n",
       "      <td>18.0</td>\n",
       "      <td>6.114035</td>\n",
       "      <td>1.315789</td>\n",
       "      <td>356.0</td>\n",
       "      <td>3.122807</td>\n",
       "      <td>39.49</td>\n",
       "      <td>-121.21</td>\n",
       "    </tr>\n",
       "    <tr>\n",
       "      <th>20637</th>\n",
       "      <td>1.7000</td>\n",
       "      <td>17.0</td>\n",
       "      <td>5.205543</td>\n",
       "      <td>1.120092</td>\n",
       "      <td>1007.0</td>\n",
       "      <td>2.325635</td>\n",
       "      <td>39.43</td>\n",
       "      <td>-121.22</td>\n",
       "    </tr>\n",
       "    <tr>\n",
       "      <th>20638</th>\n",
       "      <td>1.8672</td>\n",
       "      <td>18.0</td>\n",
       "      <td>5.329513</td>\n",
       "      <td>1.171920</td>\n",
       "      <td>741.0</td>\n",
       "      <td>2.123209</td>\n",
       "      <td>39.43</td>\n",
       "      <td>-121.32</td>\n",
       "    </tr>\n",
       "    <tr>\n",
       "      <th>20639</th>\n",
       "      <td>2.3886</td>\n",
       "      <td>16.0</td>\n",
       "      <td>5.254717</td>\n",
       "      <td>1.162264</td>\n",
       "      <td>1387.0</td>\n",
       "      <td>2.616981</td>\n",
       "      <td>39.37</td>\n",
       "      <td>-121.24</td>\n",
       "    </tr>\n",
       "  </tbody>\n",
       "</table>\n",
       "<p>20640 rows × 8 columns</p>\n",
       "</div>"
      ],
      "text/plain": [
       "       MedInc  HouseAge  AveRooms  AveBedrms  Population  AveOccup  Latitude  \\\n",
       "0      8.3252      41.0  6.984127   1.023810       322.0  2.555556     37.88   \n",
       "1      8.3014      21.0  6.238137   0.971880      2401.0  2.109842     37.86   \n",
       "2      7.2574      52.0  8.288136   1.073446       496.0  2.802260     37.85   \n",
       "3      5.6431      52.0  5.817352   1.073059       558.0  2.547945     37.85   \n",
       "4      3.8462      52.0  6.281853   1.081081       565.0  2.181467     37.85   \n",
       "...       ...       ...       ...        ...         ...       ...       ...   \n",
       "20635  1.5603      25.0  5.045455   1.133333       845.0  2.560606     39.48   \n",
       "20636  2.5568      18.0  6.114035   1.315789       356.0  3.122807     39.49   \n",
       "20637  1.7000      17.0  5.205543   1.120092      1007.0  2.325635     39.43   \n",
       "20638  1.8672      18.0  5.329513   1.171920       741.0  2.123209     39.43   \n",
       "20639  2.3886      16.0  5.254717   1.162264      1387.0  2.616981     39.37   \n",
       "\n",
       "       Longitude  \n",
       "0        -122.23  \n",
       "1        -122.22  \n",
       "2        -122.24  \n",
       "3        -122.25  \n",
       "4        -122.25  \n",
       "...          ...  \n",
       "20635    -121.09  \n",
       "20636    -121.21  \n",
       "20637    -121.22  \n",
       "20638    -121.32  \n",
       "20639    -121.24  \n",
       "\n",
       "[20640 rows x 8 columns]"
      ]
     },
     "execution_count": 38,
     "metadata": {},
     "output_type": "execute_result"
    }
   ],
   "source": [
    "data"
   ]
  },
  {
   "cell_type": "code",
   "execution_count": 39,
   "id": "daebabdb",
   "metadata": {},
   "outputs": [
    {
     "data": {
      "text/html": [
       "<div>\n",
       "<style scoped>\n",
       "    .dataframe tbody tr th:only-of-type {\n",
       "        vertical-align: middle;\n",
       "    }\n",
       "\n",
       "    .dataframe tbody tr th {\n",
       "        vertical-align: top;\n",
       "    }\n",
       "\n",
       "    .dataframe thead th {\n",
       "        text-align: right;\n",
       "    }\n",
       "</style>\n",
       "<table border=\"1\" class=\"dataframe\">\n",
       "  <thead>\n",
       "    <tr style=\"text-align: right;\">\n",
       "      <th></th>\n",
       "      <th>MEDV</th>\n",
       "    </tr>\n",
       "  </thead>\n",
       "  <tbody>\n",
       "    <tr>\n",
       "      <th>0</th>\n",
       "      <td>4.526</td>\n",
       "    </tr>\n",
       "    <tr>\n",
       "      <th>1</th>\n",
       "      <td>3.585</td>\n",
       "    </tr>\n",
       "    <tr>\n",
       "      <th>2</th>\n",
       "      <td>3.521</td>\n",
       "    </tr>\n",
       "    <tr>\n",
       "      <th>3</th>\n",
       "      <td>3.413</td>\n",
       "    </tr>\n",
       "    <tr>\n",
       "      <th>4</th>\n",
       "      <td>3.422</td>\n",
       "    </tr>\n",
       "    <tr>\n",
       "      <th>...</th>\n",
       "      <td>...</td>\n",
       "    </tr>\n",
       "    <tr>\n",
       "      <th>20635</th>\n",
       "      <td>0.781</td>\n",
       "    </tr>\n",
       "    <tr>\n",
       "      <th>20636</th>\n",
       "      <td>0.771</td>\n",
       "    </tr>\n",
       "    <tr>\n",
       "      <th>20637</th>\n",
       "      <td>0.923</td>\n",
       "    </tr>\n",
       "    <tr>\n",
       "      <th>20638</th>\n",
       "      <td>0.847</td>\n",
       "    </tr>\n",
       "    <tr>\n",
       "      <th>20639</th>\n",
       "      <td>0.894</td>\n",
       "    </tr>\n",
       "  </tbody>\n",
       "</table>\n",
       "<p>20640 rows × 1 columns</p>\n",
       "</div>"
      ],
      "text/plain": [
       "        MEDV\n",
       "0      4.526\n",
       "1      3.585\n",
       "2      3.521\n",
       "3      3.413\n",
       "4      3.422\n",
       "...      ...\n",
       "20635  0.781\n",
       "20636  0.771\n",
       "20637  0.923\n",
       "20638  0.847\n",
       "20639  0.894\n",
       "\n",
       "[20640 rows x 1 columns]"
      ]
     },
     "execution_count": 39,
     "metadata": {},
     "output_type": "execute_result"
    }
   ],
   "source": [
    "target"
   ]
  },
  {
   "cell_type": "code",
   "execution_count": 43,
   "id": "37ddcfe6",
   "metadata": {},
   "outputs": [
    {
     "data": {
      "text/plain": [
       "array([[ 1.00000000e+00,  3.25960000e+00,  3.30000000e+01, ...,\n",
       "         1.06994410e+03, -3.82805130e+03,  1.36960209e+04],\n",
       "       [ 1.00000000e+00,  3.81250000e+00,  4.90000000e+01, ...,\n",
       "         1.14041290e+03, -3.99026320e+03,  1.39617856e+04],\n",
       "       [ 1.00000000e+00,  4.15630000e+00,  4.00000000e+00, ...,\n",
       "         1.20131560e+03, -4.17583680e+03,  1.45154304e+04],\n",
       "       ...,\n",
       "       [ 1.00000000e+00,  2.93440000e+00,  3.60000000e+01, ...,\n",
       "         1.15804090e+03, -4.02847140e+03,  1.40138244e+04],\n",
       "       [ 1.00000000e+00,  5.71920000e+00,  1.50000000e+01, ...,\n",
       "         1.41225640e+03, -4.58325680e+03,  1.48742416e+04],\n",
       "       [ 1.00000000e+00,  2.57550000e+00,  5.20000000e+01, ...,\n",
       "         1.42657290e+03, -4.62380340e+03,  1.49866564e+04]])"
      ]
     },
     "execution_count": 43,
     "metadata": {},
     "output_type": "execute_result"
    }
   ],
   "source": [
    "X_train_poly"
   ]
  },
  {
   "cell_type": "code",
   "execution_count": 46,
   "id": "100c0413",
   "metadata": {},
   "outputs": [
    {
     "data": {
      "text/plain": [
       "array([ 1.00000000e+00,  3.25960000e+00,  3.30000000e+01,  5.01765650e+00,\n",
       "        1.00642055e+00,  2.30000000e+03,  3.69181380e+00,  3.27100000e+01,\n",
       "       -1.17030000e+02,  1.06249922e+01,  1.07566800e+02,  1.63555531e+01,\n",
       "        3.28052841e+00,  7.49708000e+03,  1.20338363e+01,  1.06621516e+02,\n",
       "       -3.81470988e+02,  1.08900000e+03,  1.65582665e+02,  3.32118780e+01,\n",
       "        7.59000000e+04,  1.21829856e+02,  1.07943000e+03, -3.86199000e+03,\n",
       "        2.51768768e+01,  5.04987259e+00,  1.15406100e+04,  1.85242535e+01,\n",
       "        1.64127544e+02, -5.87216340e+02,  1.01288231e+00,  2.31476726e+03,\n",
       "        3.71551726e+00,  3.29200161e+01, -1.17781396e+02,  5.29000000e+06,\n",
       "        8.49117175e+03,  7.52330000e+04, -2.69169000e+05,  1.36294892e+01,\n",
       "        1.20759230e+02, -4.32052970e+02,  1.06994410e+03, -3.82805130e+03,\n",
       "        1.36960209e+04])"
      ]
     },
     "execution_count": 46,
     "metadata": {},
     "output_type": "execute_result"
    }
   ],
   "source": [
    "X_train_poly[0]"
   ]
  },
  {
   "cell_type": "code",
   "execution_count": 47,
   "id": "7d87949e",
   "metadata": {},
   "outputs": [
    {
     "data": {
      "text/plain": [
       "(45,)"
      ]
     },
     "execution_count": 47,
     "metadata": {},
     "output_type": "execute_result"
    }
   ],
   "source": [
    "X_train_poly[0].shape"
   ]
  },
  {
   "cell_type": "code",
   "execution_count": 48,
   "id": "b3aee162",
   "metadata": {},
   "outputs": [],
   "source": [
    "mse = 0.4643015102452407"
   ]
  },
  {
   "cell_type": "code",
   "execution_count": 50,
   "id": "3b098f2b",
   "metadata": {},
   "outputs": [
    {
     "data": {
      "text/plain": [
       "68139.67348360577"
      ]
     },
     "execution_count": 50,
     "metadata": {},
     "output_type": "execute_result"
    }
   ],
   "source": [
    "np.sqrt(mse) * 100000"
   ]
  },
  {
   "cell_type": "code",
   "execution_count": 51,
   "id": "bfdbd5a0",
   "metadata": {},
   "outputs": [
    {
     "data": {
      "text/plain": [
       "AveOccup\n",
       "3.000000    35\n",
       "2.000000    18\n",
       "2.500000    17\n",
       "2.666667    16\n",
       "2.333333    13\n",
       "            ..\n",
       "2.425926     1\n",
       "2.942568     1\n",
       "2.816254     1\n",
       "2.837104     1\n",
       "2.616981     1\n",
       "Name: count, Length: 18841, dtype: int64"
      ]
     },
     "execution_count": 51,
     "metadata": {},
     "output_type": "execute_result"
    }
   ],
   "source": [
    "data.AveOccup.value_counts()"
   ]
  },
  {
   "cell_type": "code",
   "execution_count": 55,
   "id": "466ff89d",
   "metadata": {},
   "outputs": [],
   "source": [
    "ave_occup_bins = data.AveOccup.apply(np.round).astype(int)"
   ]
  },
  {
   "cell_type": "code",
   "execution_count": 56,
   "id": "b9150273",
   "metadata": {},
   "outputs": [
    {
     "data": {
      "text/plain": [
       "0        3\n",
       "1        2\n",
       "2        3\n",
       "3        3\n",
       "4        2\n",
       "        ..\n",
       "20635    3\n",
       "20636    3\n",
       "20637    2\n",
       "20638    2\n",
       "20639    3\n",
       "Name: AveOccup, Length: 20640, dtype: int64"
      ]
     },
     "execution_count": 56,
     "metadata": {},
     "output_type": "execute_result"
    }
   ],
   "source": [
    "ave_occup_bins"
   ]
  },
  {
   "cell_type": "code",
   "execution_count": 60,
   "id": "c9bb308b",
   "metadata": {},
   "outputs": [
    {
     "data": {
      "text/plain": [
       "<Axes: xlabel='AveOccup'>"
      ]
     },
     "execution_count": 60,
     "metadata": {},
     "output_type": "execute_result"
    },
    {
     "data": {
      "image/png": "[encoded data removed]",
      "text/plain": [
       "<Figure size 432x288 with 1 Axes>"
      ]
     },
     "metadata": {
      "needs_background": "light"
     },
     "output_type": "display_data"
    }
   ],
   "source": [
    "ave_occup_bins.value_counts().sort_index().plot.bar()"
   ]
  },
  {
   "cell_type": "code",
   "execution_count": 68,
   "id": "4821bbd5",
   "metadata": {},
   "outputs": [
    {
     "name": "stdout",
     "output_type": "stream",
     "text": [
      "Calculating MSE for ave occup bin 1\n",
      "Calculating MSE for ave occup bin 2\n",
      "Calculating MSE for ave occup bin 3\n",
      "Calculating MSE for ave occup bin 4\n",
      "Calculating MSE for ave occup bin 5\n"
     ]
    }
   ],
   "source": [
    "mse_results = []\n",
    "for ave_occup_bin in range(1,6):\n",
    "    print(f\"Calculating MSE for ave occup bin {ave_occup_bin}\")\n",
    "    \n",
    "    idx = ave_occup_bins[ave_occup_bins == ave_occup_bin].index\n",
    "    X_test_idx = X_test[X_test.index.isin(idx)]\n",
    "    y_test_idx = y_test[y_test.index.isin(idx)]\n",
    "\n",
    "    X_test_poly_idx = poly.transform(X_test_idx)\n",
    "\n",
    "    # Make predictions on the test set\n",
    "    y_pred_idx = model.predict(X_test_poly_idx)\n",
    "\n",
    "    # Calculate Mean Squared Error (MSE) as the evaluation metric\n",
    "    mse = mean_squared_error(y_test_idx, y_pred_idx)\n",
    "    \n",
    "    mse_results.append((ave_occup_bin, mse))"
   ]
  },
  {
   "cell_type": "code",
   "execution_count": 69,
   "id": "0e136c83",
   "metadata": {},
   "outputs": [
    {
     "data": {
      "text/plain": [
       "[(1, 1.5229504106221163),\n",
       " (2, 0.7764640811391325),\n",
       " (3, 0.315367242986208),\n",
       " (4, 0.24223354903329827),\n",
       " (5, 0.5604703218479727)]"
      ]
     },
     "execution_count": 69,
     "metadata": {},
     "output_type": "execute_result"
    }
   ],
   "source": [
    "mse_results"
   ]
  },
  {
   "cell_type": "code",
   "execution_count": null,
   "id": "b7c856cc",
   "metadata": {},
   "outputs": [],
   "source": []
  },
  {
   "cell_type": "code",
   "execution_count": 73,
   "id": "c31ed402",
   "metadata": {},
   "outputs": [],
   "source": [
    "import matplotlib.pyplot as plt"
   ]
  },
  {
   "cell_type": "code",
   "execution_count": 74,
   "id": "d2136a5d",
   "metadata": {},
   "outputs": [
    {
     "data": {
      "text/plain": [
       "Text(0, 0.5, 'MSE')"
      ]
     },
     "execution_count": 74,
     "metadata": {},
     "output_type": "execute_result"
    },
    {
     "data": {
      "image/png": "[encoded data removed]",
      "text/plain": [
       "<Figure size 432x288 with 1 Axes>"
      ]
     },
     "metadata": {
      "needs_background": "light"
     },
     "output_type": "display_data"
    }
   ],
   "source": [
    "pd.DataFrame(mse_results).set_index(0).plot.bar()\n",
    "plt.xlabel(\"Average Occupancy per House\")\n",
    "plt.ylabel(\"MSE\")"
   ]
  },
  {
   "cell_type": "code",
   "execution_count": null,
   "id": "ff4c70f0",
   "metadata": {},
   "outputs": [],
   "source": []
  },
  {
   "cell_type": "markdown",
   "id": "941ca2da",
   "metadata": {},
   "source": [
    "# Model Card\n",
    "\n",
    "## Model Details\n",
    "\n",
    "- **Developed by:** Alex for ZazenCodes\n",
    "- **Model Date:** 2024-01-31\n",
    "- **Model Version:** v1\n",
    "- **Model Type:** Linear Regression\n",
    "- **Training Algorithms and Parameters:** Ordinary least squares with standard loss\n",
    "- **Features:**\n",
    "  - MedInc: Median income in block group\n",
    "  - HouseAge: Median house age in block group\n",
    "  - AveRooms: Average number of rooms per household\n",
    "  - AveBedrms: Average number of bedrooms per household\n",
    "  - Population: Block group population\n",
    "  - AveOccup: Average number of household members\n",
    "  - Latitude: Block group latitude\n",
    "  - Longitude: Block group longitude\n",
    "- **More Information:** [GitHub Repository](https://github.com/agalea91/youtube-codes)\n",
    "- **Contact:** [Alex's Twitter](https://twitter.com/agalea91)\n",
    "\n",
    "## Intended Use\n",
    "\n",
    "- **Primary Intended Uses:**\n",
    "  1. To have a baseline idea of what price to list houses for.\n",
    "  2. For use by realtors.\n",
    "  3. For re-mortgaging homes or issuing loans.\n",
    "\n",
    "- **Primary Intended Users:** Realtors, Mortgage Professionals\n",
    "\n",
    "- **Out-of-Scope Use Cases:** Not specified\n",
    "\n",
    "## Factors\n",
    "\n",
    "- **Relevant Factors:**\n",
    "  1. Dataset may be biased; a thorough examination is pending.\n",
    "  2. Accuracy for different average occupancy numbers.\n",
    "\n",
    "- **Evaluation Factors:** Not specified\n",
    "\n",
    "## Metrics\n",
    "\n",
    "- **Model Performance Measures:**\n",
    "  1. Mean Squared Error (MSE)\n",
    "\n",
    "- **Decision Thresholds:** Not specified\n",
    "\n",
    "- **Variation Approaches:** Not specified\n",
    "\n",
    "## Evaluation Data\n",
    "\n",
    "- **Datasets:**\n",
    "  1. California Housing Dataset (Test Split)\n",
    "  2. Withheld Training Data\n",
    "  3. Polynomial Feature Extraction\n",
    "\n",
    "- **Motivation:** To evaluate the model's performance on a test split of the California Housing dataset, with withheld training data, and using polynomial feature extraction.\n",
    "\n",
    "- **Preprocessing:** Polynomial feature extraction\n",
    "\n",
    "## Training Data\n",
    "\n",
    "- **Training Datasets:**\n",
    "  1. California Housing Dataset (Test Split) - Approximately 20,000 records\n",
    "  2. No specific details provided, just mentioned a random sample of the dataset.\n",
    "\n",
    "- **Distribution over Various Factors:** Not specified\n",
    "\n",
    "## Quantitative Analyses\n",
    "\n",
    "- **Unitary Results:** Not explored\n",
    "\n",
    "- **Intersectional Results:** Explored MSE of different average occupancies. Higher error for average occupancy of 2 compared to 3 and 4. Other average occupancies not statistically significant.\n",
    "\n",
    "## Ethical Considerations\n",
    "\n",
    "- **Ethical Considerations:** Some features may leak ethnic information. Average occupancy can be correlated with ethnicity.\n",
    "\n",
    "## Caveats and Recommendations\n",
    "\n",
    "- **Caveats:**\n",
    "  1. Model selection was arbitrary; no other models were tried. Feature engineering could yield better results.\n",
    "  2. Regularization may help with potential overfitting and could provide interesting insights on irrelevant features.\n"
   ]
  },
  {
   "cell_type": "code",
   "execution_count": 77,
   "id": "190d101b",
   "metadata": {},
   "outputs": [
    {
     "name": "stdout",
     "output_type": "stream",
     "text": [
      "\u001b[33mDEPRECATION: Configuring installation scheme with distutils config files is deprecated and will no longer work in the near future. If you are using a Homebrew or Linuxbrew Python, please see discussion at https://github.com/Homebrew/homebrew-core/issues/76621\u001b[0m\u001b[33m\n",
      "\u001b[0mCollecting model-card-toolkit\n",
      "  Using cached model_card_toolkit-2.0.0-py3-none-any.whl (68 kB)\n",
      "Collecting absl-py<1.1,>=0.9 (from model-card-toolkit)\n",
      "  Using cached absl_py-1.0.0-py3-none-any.whl (126 kB)\n",
      "Requirement already satisfied: jinja2<3.2,>=3.1 in /opt/homebrew/lib/python3.9/site-packages (from model-card-toolkit) (3.1.2)\n",
      "Requirement already satisfied: matplotlib<4,>=3.2.0 in /opt/homebrew/lib/python3.9/site-packages (from model-card-toolkit) (3.8.0)\n",
      "Collecting jsonschema<4,>=3.2.0 (from model-card-toolkit)\n",
      "  Using cached jsonschema-3.2.0-py2.py3-none-any.whl (56 kB)\n",
      "\u001b[31mERROR: Could not find a version that satisfies the requirement tensorflow-data-validation<2.0.0,>=1.5.0 (from model-card-toolkit) (from versions: none)\u001b[0m\u001b[31m\n",
      "\u001b[0m\u001b[31mERROR: No matching distribution found for tensorflow-data-validation<2.0.0,>=1.5.0 (from model-card-toolkit)\u001b[0m\u001b[31m\n",
      "\u001b[0m"
     ]
    }
   ],
   "source": [
    "!pip install model-card-toolkit --use-deprecated=legacy-resolver\n"
   ]
  },
  {
   "cell_type": "code",
   "execution_count": 76,
   "id": "f40e7fd2",
   "metadata": {},
   "outputs": [
    {
     "ename": "ModuleNotFoundError",
     "evalue": "No module named 'model_card_toolkit'",
     "output_type": "error",
     "traceback": [
      "\u001b[0;31m---------------------------------------------------------------------------\u001b[0m",
      "\u001b[0;31mModuleNotFoundError\u001b[0m                       Traceback (most recent call last)",
      "Input \u001b[0;32mIn [76]\u001b[0m, in \u001b[0;36m<cell line: 1>\u001b[0;34m()\u001b[0m\n\u001b[0;32m----> 1\u001b[0m \u001b[38;5;28;01mfrom\u001b[39;00m \u001b[38;5;21;01mmodel_card_toolkit\u001b[39;00m \u001b[38;5;28;01mimport\u001b[39;00m ModelCard, ModelCardToolkit\n\u001b[1;32m      3\u001b[0m \u001b[38;5;66;03m# Define your model details\u001b[39;00m\n\u001b[1;32m      4\u001b[0m model_details \u001b[38;5;241m=\u001b[39m {\n\u001b[1;32m      5\u001b[0m     \u001b[38;5;124m\"\u001b[39m\u001b[38;5;124mname\u001b[39m\u001b[38;5;124m\"\u001b[39m: \u001b[38;5;124m\"\u001b[39m\u001b[38;5;124mLinear Regression Model for Housing Price Prediction\u001b[39m\u001b[38;5;124m\"\u001b[39m,\n\u001b[1;32m      6\u001b[0m     \u001b[38;5;124m\"\u001b[39m\u001b[38;5;124mversion\u001b[39m\u001b[38;5;124m\"\u001b[39m: \u001b[38;5;124m\"\u001b[39m\u001b[38;5;124mv1\u001b[39m\u001b[38;5;124m\"\u001b[39m,\n\u001b[0;32m   (...)\u001b[0m\n\u001b[1;32m     19\u001b[0m     \u001b[38;5;124m\"\u001b[39m\u001b[38;5;124mcontacts\u001b[39m\u001b[38;5;124m\"\u001b[39m: [{\u001b[38;5;124m\"\u001b[39m\u001b[38;5;124mTwitter\u001b[39m\u001b[38;5;124m\"\u001b[39m: \u001b[38;5;124m\"\u001b[39m\u001b[38;5;124mhttps://twitter.com/agalea91\u001b[39m\u001b[38;5;124m\"\u001b[39m}],\n\u001b[1;32m     20\u001b[0m }\n",
      "\u001b[0;31mModuleNotFoundError\u001b[0m: No module named 'model_card_toolkit'"
     ]
    }
   ],
   "source": [
    "from model_card_toolkit import ModelCard, ModelCardToolkit\n",
    "\n",
    "# Define your model details\n",
    "model_details = {\n",
    "    \"name\": \"Linear Regression Model for Housing Price Prediction\",\n",
    "    \"version\": \"v1\",\n",
    "    \"date\": \"2024-01-31\",\n",
    "    \"type\": \"Linear Regression\",\n",
    "    \"model_parameters\": {\n",
    "        \"Training Algorithm\": \"Ordinary least squares with standard loss\",\n",
    "        \"Features\": [\n",
    "            \"MedInc\", \"HouseAge\", \"AveRooms\", \"AveBedrms\",\n",
    "            \"Population\", \"AveOccup\", \"Latitude\", \"Longitude\"\n",
    "        ]\n",
    "    },\n",
    "    \"resources\": [\n",
    "        {\"github\": \"https://github.com/agalea91/youtube-codes\"},\n",
    "    ],\n",
    "    \"contacts\": [{\"Twitter\": \"https://twitter.com/agalea91\"}],\n",
    "}\n",
    "\n",
    "# Define intended use, factors, metrics, evaluation data, training data, and more\n",
    "intended_use = {\n",
    "    \"primary_uses\": [\n",
    "        \"To have a baseline idea of what price to list houses for.\",\n",
    "        \"For use by realtors.\",\n",
    "        \"For re-mortgaging homes or issuing loans.\"\n",
    "    ],\n",
    "    \"primary_users\": [\"Realtors\", \"Mortgage Professionals\"],\n",
    "    \"out_of_scope_use_cases\": [],\n",
    "}\n",
    "\n",
    "factors = {\n",
    "    \"relevant_factors\": [\n",
    "        \"Dataset may be biased; a thorough examination is pending.\",\n",
    "        \"Accuracy for different average occupancy numbers.\"\n",
    "    ],\n",
    "    \"evaluation_factors\": [],\n",
    "}\n",
    "\n",
    "metrics = {\n",
    "    \"model_performance_measures\": [\"Mean Squared Error (MSE)\"],\n",
    "    \"decision_thresholds\": [],\n",
    "    \"variation_approaches\": [],\n",
    "}\n",
    "\n",
    "evaluation_data = {\n",
    "    \"datasets\": [\n",
    "        \"California Housing Dataset (Test Split)\",\n",
    "        \"Withheld Training Data\",\n",
    "        \"Polynomial Feature Extraction\"\n",
    "    ],\n",
    "    \"motivation\": \"To evaluate the model's performance on a test split of the California Housing dataset, with withheld training data, and using polynomial feature extraction.\",\n",
    "    \"preprocessing\": \"Polynomial feature extraction\",\n",
    "}\n",
    "\n",
    "training_data = {\n",
    "    \"datasets\": [\n",
    "        \"California Housing Dataset (Test Split) - Approximately 20,000 records\",\n",
    "        \"No specific details provided, just mentioned a random sample of the dataset.\"\n",
    "    ],\n",
    "    \"distribution_over_factors\": [],\n",
    "}\n",
    "\n",
    "quantitative_analyses = {\n",
    "    \"unitary_results\": [],\n",
    "    \"intersectional_results\": [\"Explored MSE of different average occupancies. Higher error for average occupancy of 2 compared to 3 and 4. Other average occupancies not statistically significant.\"],\n",
    "}\n",
    "\n",
    "ethical_considerations = {\n",
    "    \"ethical_considerations\": [\"Some features may leak ethnic information. Average occupancy can be correlated with ethnicity.\"],\n",
    "}\n",
    "\n",
    "caveats_and_recommendations = {\n",
    "    \"caveats\": [\n",
    "        \"Model selection was arbitrary; no other models were tried. Feature engineering could yield better results.\",\n",
    "        \"Regularization may help with potential overfitting and could provide interesting insights on irrelevant features.\"\n",
    "    ],\n",
    "    \"recommendations\": [],\n",
    "}\n",
    "\n",
    "# Create the Model Card\n",
    "model_card = ModelCard(\n",
    "    model_details=model_details,\n",
    "    intended_use=intended_use,\n",
    "    factors=factors,\n",
    "    metrics=metrics,\n",
    "    evaluation_data=evaluation_data,\n",
    "    training_data=training_data,\n",
    "    quantitative_analyses=quantitative_analyses,\n",
    "    ethical_considerations=ethical_considerations,\n",
    "    caveats_and_recommendations=caveats_and_recommendations,\n",
    ")\n",
    "\n",
    "# Save the Model Card to a file\n",
    "model_card.save(\"linear_regression_model_card.md\")\n"
   ]
  },
  {
   "cell_type": "code",
   "execution_count": null,
   "id": "486f0bde",
   "metadata": {},
   "outputs": [],
   "source": []
  }
 ],
 "metadata": {
  "kernelspec": {
   "display_name": "Python 3 (ipykernel)",
   "language": "python",
   "name": "python3"
  },
  "language_info": {
   "codemirror_mode": {
    "name": "ipython",
    "version": 3
   },
   "file_extension": ".py",
   "mimetype": "text/x-python",
   "name": "python",
   "nbconvert_exporter": "python",
   "pygments_lexer": "ipython3",
   "version": "3.9.18"
  }
 },
 "nbformat": 4,
 "nbformat_minor": 5
}
