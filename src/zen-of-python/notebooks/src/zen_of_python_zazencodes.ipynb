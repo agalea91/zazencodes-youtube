{
 "cells": [
  {
   "cell_type": "code",
   "execution_count": 1,
   "id": "af411883",
   "metadata": {},
   "outputs": [
    {
     "name": "stdout",
     "output_type": "stream",
     "text": [
      "The Zen of Python, by Tim Peters\n",
      "\n",
      "Beautiful is better than ugly.\n",
      "Explicit is better than implicit.\n",
      "Simple is better than complex.\n",
      "Complex is better than complicated.\n",
      "Flat is better than nested.\n",
      "Sparse is better than dense.\n",
      "Readability counts.\n",
      "Special cases aren't special enough to break the rules.\n",
      "Although practicality beats purity.\n",
      "Errors should never pass silently.\n",
      "Unless explicitly silenced.\n",
      "In the face of ambiguity, refuse the temptation to guess.\n",
      "There should be one-- and preferably only one --obvious way to do it.\n",
      "Although that way may not be obvious at first unless you're Dutch.\n",
      "Now is better than never.\n",
      "Although never is often better than *right* now.\n",
      "If the implementation is hard to explain, it's a bad idea.\n",
      "If the implementation is easy to explain, it may be a good idea.\n",
      "Namespaces are one honking great idea -- let's do more of those!\n"
     ]
    }
   ],
   "source": [
    "import this"
   ]
  },
  {
   "cell_type": "markdown",
   "id": "51d24d82",
   "metadata": {},
   "source": [
    "## Beautiful is better than ugly."
   ]
  },
  {
   "cell_type": "code",
   "execution_count": 5,
   "id": "7f43cf17",
   "metadata": {},
   "outputs": [
    {
     "name": "stdout",
     "output_type": "stream",
     "text": [
      "Hello, Alex!\n",
      "Hello, Alex!\n"
     ]
    }
   ],
   "source": [
    "# Beautiful\n",
    "def greet(name):\n",
    "    print(f\"Hello, {name}!\")\n",
    "\n",
    "greet(\"Alex\")\n",
    "    \n",
    "# Ugly\n",
    "def greet(name):\n",
    "    print(\"Hello, \" + name + \"!\")\n",
    "    \n",
    "    \n",
    "greet(\"Alex\")"
   ]
  },
  {
   "cell_type": "code",
   "execution_count": 6,
   "id": "9b3c1a78",
   "metadata": {},
   "outputs": [
    {
     "name": "stdout",
     "output_type": "stream",
     "text": [
      "red\n",
      "green\n",
      "blue\n",
      "red\n",
      "green\n",
      "blue\n"
     ]
    }
   ],
   "source": [
    "# Beautiful\n",
    "colors = ['red', 'green', 'blue']\n",
    "for color in colors:\n",
    "    print(color)\n",
    "\n",
    "# Ugly\n",
    "i=0\n",
    "while i<len(colors):print(colors[i]);i+=1"
   ]
  },
  {
   "cell_type": "markdown",
   "id": "34a52d56",
   "metadata": {},
   "source": [
    "## Explicit is better than implicit."
   ]
  },
  {
   "cell_type": "code",
   "execution_count": 9,
   "id": "107b2910",
   "metadata": {},
   "outputs": [
    {
     "data": {
      "text/plain": [
       "12.566370614359172"
      ]
     },
     "execution_count": 9,
     "metadata": {},
     "output_type": "execute_result"
    }
   ],
   "source": [
    "# Explicit\n",
    "import math\n",
    "radius = 2\n",
    "area = math.pi * radius**2\n",
    "area"
   ]
  },
  {
   "cell_type": "code",
   "execution_count": 10,
   "id": "c8aff024",
   "metadata": {},
   "outputs": [
    {
     "data": {
      "text/plain": [
       "12.566370614359172"
      ]
     },
     "execution_count": 10,
     "metadata": {},
     "output_type": "execute_result"
    }
   ],
   "source": [
    "# Implicit\n",
    "from math import *\n",
    "radius = 2\n",
    "area = pi * radius**2\n",
    "area"
   ]
  },
  {
   "cell_type": "code",
   "execution_count": null,
   "id": "98413258",
   "metadata": {},
   "outputs": [],
   "source": [
    "# Explicit\n",
    "file = open('data.txt', mode='r')"
   ]
  },
  {
   "cell_type": "code",
   "execution_count": null,
   "id": "bbda04f7",
   "metadata": {},
   "outputs": [],
   "source": [
    "# Implicit\n",
    "file = open('data.txt')\n"
   ]
  },
  {
   "cell_type": "markdown",
   "id": "409e0eb4",
   "metadata": {},
   "source": [
    "## Simple is better than complex."
   ]
  },
  {
   "cell_type": "code",
   "execution_count": 11,
   "id": "69af2da9",
   "metadata": {},
   "outputs": [],
   "source": [
    "# Simple\n",
    "def sum_numbers(numbers):\n",
    "    return sum(numbers)"
   ]
  },
  {
   "cell_type": "code",
   "execution_count": 12,
   "id": "af1ba8ea",
   "metadata": {},
   "outputs": [],
   "source": [
    "# Complex\n",
    "def sum_numbers(numbers):\n",
    "    total = 0\n",
    "    for number in numbers:\n",
    "        total += number\n",
    "    return total"
   ]
  },
  {
   "cell_type": "markdown",
   "id": "9e962fa2",
   "metadata": {},
   "source": [
    "## Complex is better than complicated."
   ]
  },
  {
   "cell_type": "code",
   "execution_count": 14,
   "id": "972f070e",
   "metadata": {},
   "outputs": [
    {
     "data": {
      "text/plain": [
       "['banana', 'orange']"
      ]
     },
     "execution_count": 14,
     "metadata": {},
     "output_type": "execute_result"
    }
   ],
   "source": [
    "# Complex\n",
    "groceries = [\"banana\", \"orange\", \"peanut butter\", \"rice\", \"lentils\"]\n",
    "fruits = [\"banana\", \"orange\", \"apple\", \"blueberries\"]\n",
    "fruit_groceries = [item for item in groceries if item in fruits]\n",
    "fruit_groceries"
   ]
  },
  {
   "cell_type": "code",
   "execution_count": 16,
   "id": "3bc7150a",
   "metadata": {},
   "outputs": [
    {
     "data": {
      "text/plain": [
       "['banana', 'orange']"
      ]
     },
     "execution_count": 16,
     "metadata": {},
     "output_type": "execute_result"
    }
   ],
   "source": [
    "# Complicated\n",
    "groceries = [\"banana\", \"orange\", \"peanut butter\", \"rice\", \"lentils\"]\n",
    "fruits = [\"banana\", \"orange\", \"apple\", \"blueberries\"]\n",
    "\n",
    "fruit_groceries = []\n",
    "for item in groceries:\n",
    "    if item in fruits:\n",
    "        fruit_groceries.append(item)\n",
    "\n",
    "fruit_groceries"
   ]
  },
  {
   "cell_type": "markdown",
   "id": "dd90de59",
   "metadata": {},
   "source": [
    "## Flat is better than nested."
   ]
  },
  {
   "cell_type": "code",
   "execution_count": 17,
   "id": "33d0b47b",
   "metadata": {},
   "outputs": [
    {
     "name": "stdout",
     "output_type": "stream",
     "text": [
      "Yup, we got apples - but theres to many\n"
     ]
    }
   ],
   "source": [
    "# Flat\n",
    "def check_apples(item: str, num: int):\n",
    "    if item == \"apple\" and num == 0:\n",
    "        print(\"No apples\")\n",
    "        \n",
    "    elif item == \"apple\" and num > 10:\n",
    "        print(\"Yup, we got apples - but theres to many\")\n",
    "        \n",
    "    elif item == \"apple\" and num == 0:\n",
    "        print(\"No apples\")\n",
    "    \n",
    "    elif item != \"apple\":\n",
    "        print(\"Item is not an apple!\")\n",
    "        \n",
    "        \n",
    "check_apples(\"apple\", 15)"
   ]
  },
  {
   "cell_type": "code",
   "execution_count": 18,
   "id": "b851c503",
   "metadata": {},
   "outputs": [
    {
     "name": "stdout",
     "output_type": "stream",
     "text": [
      "Yup, we got apples - but theres to many\n"
     ]
    }
   ],
   "source": [
    "# Nested\n",
    "def check_apples(item: str, num: int):\n",
    "    if item == \"apple\":\n",
    "        if num == 0:\n",
    "            print(\"No apples\")\n",
    "        elif num > 10:\n",
    "            print(\"Yup, we got apples - but theres to many\")\n",
    "        elif num == 0:\n",
    "            print(\"No apples\")\n",
    "    \n",
    "    else:\n",
    "        print(\"Item is not an apple!\")\n",
    "        \n",
    "        \n",
    "check_apples(\"apple\", 15)"
   ]
  },
  {
   "cell_type": "markdown",
   "id": "db4d3c90",
   "metadata": {},
   "source": [
    "```python\n",
    "def myfunc(a,b,c,d,e):\n",
    "    if a > 5:\n",
    "        ... more code a...\n",
    "        if b > 10:\n",
    "            ... more code b...\n",
    "            if c != 0:\n",
    "                ... more code c...\n",
    "                if d < 1:\n",
    "                    ... more code d...\n",
    "                    if e < 13:\n",
    "                        ... more code e...\n",
    "                        return a + b + c + d + e\n",
    "    return None\n",
    "\n",
    "def myfunc(a,b,c,d,e):\n",
    "    if a <= 5:\n",
    "        return None\n",
    "    ... more code a...\n",
    "    if b <= 10:\n",
    "        return None\n",
    "    ... more code b...\n",
    "    if c == 0:\n",
    "        return None\n",
    "    ... more code c...  \n",
    "    if d >= 1:\n",
    "        return None\n",
    "    ... more code d...\n",
    "    if e >= 13:\n",
    "        return None\n",
    "    ... more code e...\n",
    "    return a + b + c + d + e\n",
    "\n",
    "```\n",
    "\n",
    "[Source](https://www.reddit.com/r/learnpython/comments/as5ik6/what_is_flat_is_better_than_nested/)"
   ]
  },
  {
   "cell_type": "markdown",
   "id": "40193a49",
   "metadata": {},
   "source": [
    "## Sparse is better than dense."
   ]
  },
  {
   "cell_type": "code",
   "execution_count": 20,
   "id": "ed7c3472",
   "metadata": {},
   "outputs": [
    {
     "name": "stdout",
     "output_type": "stream",
     "text": [
      "John's age is 30'\n"
     ]
    }
   ],
   "source": [
    "# Sparse\n",
    "name = \"John\"\n",
    "age = 30\n",
    "print(f\"{name}'s age is {age}'\")"
   ]
  },
  {
   "cell_type": "code",
   "execution_count": 22,
   "id": "93958ca4",
   "metadata": {},
   "outputs": [
    {
     "name": "stdout",
     "output_type": "stream",
     "text": [
      "John's age is 30'\n"
     ]
    }
   ],
   "source": [
    "# Dense\n",
    "name, age = \"John\", 30\n",
    "print(f\"{name}'s age is {age}'\")"
   ]
  },
  {
   "cell_type": "code",
   "execution_count": 23,
   "id": "cd997208",
   "metadata": {},
   "outputs": [
    {
     "name": "stdout",
     "output_type": "stream",
     "text": [
      "John's age is 30'\n"
     ]
    }
   ],
   "source": [
    "# More dense\n",
    "print(\"{name}'s age is {age}'\".format(name=\"John\", age=30))"
   ]
  },
  {
   "cell_type": "markdown",
   "id": "6a6df904",
   "metadata": {},
   "source": [
    "## Readability counts."
   ]
  },
  {
   "cell_type": "markdown",
   "id": "a601b18c",
   "metadata": {},
   "source": [
    "```python\n",
    "# Readable\n",
    "distance_traveled = starting_point + speed * time\n",
    "```"
   ]
  },
  {
   "cell_type": "markdown",
   "id": "e17e3be1",
   "metadata": {},
   "source": [
    "```python\n",
    "# Less readable\n",
    "d = sp + s * t\n",
    "```"
   ]
  },
  {
   "cell_type": "markdown",
   "id": "88476381",
   "metadata": {},
   "source": [
    "```python\n",
    "# More less readable\n",
    "d=sp+s*t\n",
    "```"
   ]
  },
  {
   "cell_type": "markdown",
   "id": "7f13b909",
   "metadata": {},
   "source": [
    "## Special cases aren't special enough to break the rules."
   ]
  },
  {
   "cell_type": "code",
   "execution_count": 26,
   "id": "57ac7d80",
   "metadata": {},
   "outputs": [
    {
     "name": "stdout",
     "output_type": "stream",
     "text": [
      "1.0075321197509766\n"
     ]
    }
   ],
   "source": [
    "# Special case, it's obvious\n",
    "\n",
    "import time\n",
    "\n",
    "t0 = time.time()\n",
    "time.sleep(1)\n",
    "t1 = time.time()\n",
    "\n",
    "dt = t1 - t0\n",
    "print(dt)"
   ]
  },
  {
   "cell_type": "code",
   "execution_count": 28,
   "id": "6b45b865",
   "metadata": {},
   "outputs": [
    {
     "name": "stdout",
     "output_type": "stream",
     "text": [
      "1.0012998580932617\n"
     ]
    }
   ],
   "source": [
    "# Fine, I won't break the rules\n",
    "\n",
    "start_time = time.time()\n",
    "time.sleep(1)\n",
    "end_time = time.time()\n",
    "time_delta = end_time - start_time\n",
    "print(time_delta)"
   ]
  },
  {
   "cell_type": "markdown",
   "id": "64147d37",
   "metadata": {},
   "source": [
    "## Although practicality beats purity."
   ]
  },
  {
   "cell_type": "code",
   "execution_count": 31,
   "id": "2f1ca7f4",
   "metadata": {},
   "outputs": [
    {
     "name": "stdout",
     "output_type": "stream",
     "text": [
      "1.0058538913726807\n"
     ]
    }
   ],
   "source": [
    "# F*@k it\n",
    "\n",
    "t0 = time.time()\n",
    "time.sleep(1)\n",
    "t1 = time.time()\n",
    "\n",
    "print(t1 - t0)"
   ]
  },
  {
   "cell_type": "markdown",
   "id": "f841aafd",
   "metadata": {},
   "source": [
    "## Errors should never pass silently."
   ]
  },
  {
   "cell_type": "code",
   "execution_count": null,
   "id": "402a89b5",
   "metadata": {},
   "outputs": [],
   "source": [
    "# Alerting on error\n",
    "try:\n",
    "    with open('config.txt', 'r') as cfg:\n",
    "        settings = cfg.read()\n",
    "except Exception as e:\n",
    "    print(\"Error:\")\n",
    "    print(e)"
   ]
  },
  {
   "cell_type": "code",
   "execution_count": null,
   "id": "68f3deb5",
   "metadata": {},
   "outputs": [],
   "source": [
    "# Passing silently\n",
    "try:\n",
    "    with open('config.txt', 'r') as cfg:\n",
    "        settings = cfg.read()\n",
    "except:\n",
    "    pass"
   ]
  },
  {
   "cell_type": "markdown",
   "id": "319280cb",
   "metadata": {},
   "source": [
    "## Unless explicitly silenced."
   ]
  },
  {
   "cell_type": "code",
   "execution_count": null,
   "id": "4b2ac641",
   "metadata": {},
   "outputs": [],
   "source": [
    "# This is OK\n",
    "try:\n",
    "    with open('config.txt', 'r') as cfg:\n",
    "        settings = cfg.read()\n",
    "except IOError:\n",
    "    pass\n",
    "except Exception as e:\n",
    "    print(\"Error\")\n",
    "    print(e)"
   ]
  },
  {
   "cell_type": "markdown",
   "id": "62aba72e",
   "metadata": {},
   "source": [
    "## In the face of ambiguity, refuse the temptation to guess."
   ]
  },
  {
   "cell_type": "code",
   "execution_count": 32,
   "id": "76a90b2a",
   "metadata": {},
   "outputs": [
    {
     "name": "stdout",
     "output_type": "stream",
     "text": [
      "What is your ageten\n"
     ]
    },
    {
     "ename": "ValueError",
     "evalue": "Invalid age",
     "output_type": "error",
     "traceback": [
      "\u001b[0;31m---------------------------------------------------------------------------\u001b[0m",
      "\u001b[0;31mValueError\u001b[0m                                Traceback (most recent call last)",
      "Input \u001b[0;32mIn [32]\u001b[0m, in \u001b[0;36m<cell line: 3>\u001b[0;34m()\u001b[0m\n\u001b[1;32m      3\u001b[0m \u001b[38;5;28;01mtry\u001b[39;00m:\n\u001b[0;32m----> 4\u001b[0m     \u001b[38;5;28;43mint\u001b[39;49m\u001b[43m(\u001b[49m\u001b[43mage\u001b[49m\u001b[38;5;241;43m.\u001b[39;49m\u001b[43mstrip\u001b[49m\u001b[43m(\u001b[49m\u001b[43m)\u001b[49m\u001b[43m)\u001b[49m\n\u001b[1;32m      5\u001b[0m \u001b[38;5;28;01mexcept\u001b[39;00m:\n",
      "\u001b[0;31mValueError\u001b[0m: invalid literal for int() with base 10: 'ten'",
      "\nDuring handling of the above exception, another exception occurred:\n",
      "\u001b[0;31mValueError\u001b[0m                                Traceback (most recent call last)",
      "Input \u001b[0;32mIn [32]\u001b[0m, in \u001b[0;36m<cell line: 3>\u001b[0;34m()\u001b[0m\n\u001b[1;32m      4\u001b[0m     \u001b[38;5;28mint\u001b[39m(age\u001b[38;5;241m.\u001b[39mstrip())\n\u001b[1;32m      5\u001b[0m \u001b[38;5;28;01mexcept\u001b[39;00m:\n\u001b[0;32m----> 6\u001b[0m     \u001b[38;5;28;01mraise\u001b[39;00m \u001b[38;5;167;01mValueError\u001b[39;00m(\u001b[38;5;124m\"\u001b[39m\u001b[38;5;124mInvalid age\u001b[39m\u001b[38;5;124m\"\u001b[39m)\n",
      "\u001b[0;31mValueError\u001b[0m: Invalid age"
     ]
    }
   ],
   "source": [
    "# Refuse to guess\n",
    "age = input(\"What is your age\")\n",
    "try:\n",
    "    int(age.strip())\n",
    "except:\n",
    "    raise ValueError(\"Invalid age\")"
   ]
  },
  {
   "cell_type": "code",
   "execution_count": 33,
   "id": "a7902ac2",
   "metadata": {},
   "outputs": [
    {
     "name": "stdout",
     "output_type": "stream",
     "text": [
      "What is your age10\n"
     ]
    }
   ],
   "source": [
    "# Refuse to guess\n",
    "\n",
    "age = int(input(\"What is your age\").strip())"
   ]
  },
  {
   "cell_type": "markdown",
   "id": "1a882a1c",
   "metadata": {},
   "source": [
    "## There should be one-- and preferably only one --obvious way to do it."
   ]
  },
  {
   "cell_type": "code",
   "execution_count": 36,
   "id": "c4f0aee1",
   "metadata": {},
   "outputs": [
    {
     "name": "stdout",
     "output_type": "stream",
     "text": [
      "hello world\n"
     ]
    }
   ],
   "source": [
    "# Obvious way\n",
    "greetings = \"Hello World\"\n",
    "print(greetings.lower())"
   ]
  },
  {
   "cell_type": "code",
   "execution_count": 38,
   "id": "38f8b03d",
   "metadata": {},
   "outputs": [
    {
     "name": "stdout",
     "output_type": "stream",
     "text": [
      "hello world\n"
     ]
    }
   ],
   "source": [
    "# Less obvious way\n",
    "print(\"\".join([char.lower() for char in greetings]))\n"
   ]
  },
  {
   "cell_type": "code",
   "execution_count": 41,
   "id": "bb07f45c",
   "metadata": {},
   "outputs": [
    {
     "data": {
      "text/plain": [
       "'hello world'"
      ]
     },
     "execution_count": 41,
     "metadata": {},
     "output_type": "execute_result"
    }
   ],
   "source": [
    "str.lower(greetings)"
   ]
  },
  {
   "cell_type": "markdown",
   "id": "9745abf7",
   "metadata": {},
   "source": [
    "## Although that way may not be obvious at first unless you're Dutch.\n",
    "## Now is better than never.\n",
    "## Although never is often better than *right* now.\n",
    "## If the implementation is hard to explain, it's a bad idea.\n",
    "## If the implementation is easy to explain, it may be a good idea.\n",
    "## Namespaces are one honking great idea -- let's do more of those!"
   ]
  },
  {
   "cell_type": "code",
   "execution_count": 42,
   "id": "70108525",
   "metadata": {},
   "outputs": [],
   "source": [
    "# Proper use of namespaces\n",
    "import collections\n",
    "counter = collections.Counter()"
   ]
  },
  {
   "cell_type": "code",
   "execution_count": 43,
   "id": "0ab4d29e",
   "metadata": {},
   "outputs": [],
   "source": [
    "# Another proper use of namespaces\n",
    "from collections import Counter\n",
    "counter = Counter()"
   ]
  },
  {
   "cell_type": "code",
   "execution_count": 44,
   "id": "f25cb6e4",
   "metadata": {},
   "outputs": [],
   "source": [
    "# Namespace abuse\n",
    "from collections import *\n",
    "counter = Counter()"
   ]
  },
  {
   "cell_type": "code",
   "execution_count": null,
   "id": "32be32f8",
   "metadata": {},
   "outputs": [],
   "source": []
  },
  {
   "cell_type": "code",
   "execution_count": null,
   "id": "9a8842f9",
   "metadata": {},
   "outputs": [],
   "source": []
  },
  {
   "cell_type": "code",
   "execution_count": null,
   "id": "1b4f3ab4",
   "metadata": {},
   "outputs": [],
   "source": []
  },
  {
   "cell_type": "code",
   "execution_count": null,
   "id": "a03b167f",
   "metadata": {},
   "outputs": [],
   "source": []
  }
 ],
 "metadata": {
  "kernelspec": {
   "display_name": "Python 3 (ipykernel)",
   "language": "python",
   "name": "python3"
  },
  "language_info": {
   "codemirror_mode": {
    "name": "ipython",
    "version": 3
   },
   "file_extension": ".py",
   "mimetype": "text/x-python",
   "name": "python",
   "nbconvert_exporter": "python",
   "pygments_lexer": "ipython3",
   "version": "3.9.18"
  }
 },
 "nbformat": 4,
 "nbformat_minor": 5
}
