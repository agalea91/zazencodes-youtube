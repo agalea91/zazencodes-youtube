{
 "cells": [
  {
   "cell_type": "markdown",
   "metadata": {},
   "source": [
    "# Part 4: Fine-Tuning CLIP\n",
    "\n",
    "## Satellite image flood classification\n",
    "\n",
    "Dataset: https://github.com/BinaLab/FloodNet-Supervised_v1.0"
   ]
  },
  {
   "cell_type": "code",
   "execution_count": null,
   "metadata": {},
   "outputs": [],
   "source": [
    "!cat ../../requirements.txt"
   ]
  }
 ],
 "metadata": {
  "language_info": {
   "name": "python"
  }
 },
 "nbformat": 4,
 "nbformat_minor": 2
}
