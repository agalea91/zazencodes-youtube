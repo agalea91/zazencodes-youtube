{
 "cells": [
  {
   "cell_type": "code",
   "execution_count": 1,
   "id": "fe2066b1",
   "metadata": {},
   "outputs": [
    {
     "data": {
      "text/plain": [
       "'3.9.18 (main, Aug 24 2023, 18:16:58) \\n[Clang 15.0.0 (clang-1500.0.40.1)]'"
      ]
     },
     "execution_count": 1,
     "metadata": {},
     "output_type": "execute_result"
    }
   ],
   "source": [
    "import sys\n",
    "sys.version"
   ]
  },
  {
   "cell_type": "code",
   "execution_count": 11,
   "id": "b34319c7",
   "metadata": {},
   "outputs": [],
   "source": [
    "# list of squares for numbers from 1 to 5.\n",
    "squares = [x**2 for x in range(1, 6)]\n"
   ]
  },
  {
   "cell_type": "code",
   "execution_count": 3,
   "id": "b9d5bc6e",
   "metadata": {},
   "outputs": [
    {
     "data": {
      "text/plain": [
       "[1, 4, 9, 16, 25]"
      ]
     },
     "execution_count": 3,
     "metadata": {},
     "output_type": "execute_result"
    }
   ],
   "source": [
    "squares"
   ]
  },
  {
   "cell_type": "code",
   "execution_count": 8,
   "id": "3561c6b5",
   "metadata": {},
   "outputs": [
    {
     "data": {
      "text/plain": [
       "[1, 4, 9, 16, 25]"
      ]
     },
     "execution_count": 8,
     "metadata": {},
     "output_type": "execute_result"
    }
   ],
   "source": [
    "list(map(lambda x: x**2, range(1, 6)))"
   ]
  },
  {
   "cell_type": "code",
   "execution_count": 12,
   "id": "e79d5fb1",
   "metadata": {},
   "outputs": [],
   "source": [
    "# tuple of squares for numbers from 1 to 5.\n",
    "squares_tup = tuple(x**2 for x in range(1, 6))"
   ]
  },
  {
   "cell_type": "code",
   "execution_count": 13,
   "id": "494ddef2",
   "metadata": {},
   "outputs": [
    {
     "data": {
      "text/plain": [
       "(1, 4, 9, 16, 25)"
      ]
     },
     "execution_count": 13,
     "metadata": {},
     "output_type": "execute_result"
    }
   ],
   "source": [
    "squares_tup"
   ]
  },
  {
   "cell_type": "code",
   "execution_count": 14,
   "id": "2db9fc27",
   "metadata": {},
   "outputs": [
    {
     "ename": "AttributeError",
     "evalue": "'tuple' object has no attribute 'pop'",
     "output_type": "error",
     "traceback": [
      "\u001b[0;31m---------------------------------------------------------------------------\u001b[0m",
      "\u001b[0;31mAttributeError\u001b[0m                            Traceback (most recent call last)",
      "Input \u001b[0;32mIn [14]\u001b[0m, in \u001b[0;36m<cell line: 1>\u001b[0;34m()\u001b[0m\n\u001b[0;32m----> 1\u001b[0m \u001b[43msquares_tup\u001b[49m\u001b[38;5;241;43m.\u001b[39;49m\u001b[43mpop\u001b[49m(\u001b[38;5;241m0\u001b[39m)\n",
      "\u001b[0;31mAttributeError\u001b[0m: 'tuple' object has no attribute 'pop'"
     ]
    }
   ],
   "source": [
    "squares_tup.pop(0)"
   ]
  },
  {
   "cell_type": "code",
   "execution_count": 15,
   "id": "8d6e3e87",
   "metadata": {},
   "outputs": [
    {
     "data": {
      "text/plain": [
       "1"
      ]
     },
     "execution_count": 15,
     "metadata": {},
     "output_type": "execute_result"
    }
   ],
   "source": [
    "squares.pop(0)"
   ]
  },
  {
   "cell_type": "code",
   "execution_count": 16,
   "id": "6590fb91",
   "metadata": {},
   "outputs": [
    {
     "data": {
      "text/plain": [
       "[4, 9, 16, 25]"
      ]
     },
     "execution_count": 16,
     "metadata": {},
     "output_type": "execute_result"
    }
   ],
   "source": [
    "squares"
   ]
  },
  {
   "cell_type": "code",
   "execution_count": 17,
   "id": "68fda5ef",
   "metadata": {},
   "outputs": [
    {
     "data": {
      "text/plain": [
       "<generator object <genexpr> at 0x106ff4740>"
      ]
     },
     "execution_count": 17,
     "metadata": {},
     "output_type": "execute_result"
    }
   ],
   "source": [
    "(x**2 for x in range(1, 6))"
   ]
  },
  {
   "cell_type": "code",
   "execution_count": 18,
   "id": "bc3a4e12",
   "metadata": {},
   "outputs": [
    {
     "data": {
      "text/plain": [
       "1"
      ]
     },
     "execution_count": 18,
     "metadata": {},
     "output_type": "execute_result"
    }
   ],
   "source": [
    "next(x**2 for x in range(1, 6))"
   ]
  },
  {
   "cell_type": "code",
   "execution_count": 19,
   "id": "d6549de7",
   "metadata": {},
   "outputs": [
    {
     "data": {
      "text/plain": [
       "1"
      ]
     },
     "execution_count": 19,
     "metadata": {},
     "output_type": "execute_result"
    }
   ],
   "source": [
    "next(x**2 for x in range(1, 6))"
   ]
  },
  {
   "cell_type": "code",
   "execution_count": 20,
   "id": "4bf86df5",
   "metadata": {},
   "outputs": [
    {
     "data": {
      "text/plain": [
       "1"
      ]
     },
     "execution_count": 20,
     "metadata": {},
     "output_type": "execute_result"
    }
   ],
   "source": [
    "iterator = (x**2 for x in range(1, 6))\n",
    "next(iterator)"
   ]
  },
  {
   "cell_type": "code",
   "execution_count": 21,
   "id": "12ae7b7f",
   "metadata": {},
   "outputs": [
    {
     "data": {
      "text/plain": [
       "4"
      ]
     },
     "execution_count": 21,
     "metadata": {},
     "output_type": "execute_result"
    }
   ],
   "source": [
    "next(iterator)"
   ]
  },
  {
   "cell_type": "code",
   "execution_count": 22,
   "id": "4494e1e8",
   "metadata": {},
   "outputs": [
    {
     "data": {
      "text/plain": [
       "9"
      ]
     },
     "execution_count": 22,
     "metadata": {},
     "output_type": "execute_result"
    }
   ],
   "source": [
    "\n",
    "next(iterator)"
   ]
  },
  {
   "cell_type": "code",
   "execution_count": 23,
   "id": "d1716ff9",
   "metadata": {},
   "outputs": [
    {
     "data": {
      "text/plain": [
       "[1, 4, 9, 16, 25]"
      ]
     },
     "execution_count": 23,
     "metadata": {},
     "output_type": "execute_result"
    }
   ],
   "source": [
    "list(x**2 for x in range(1, 6))"
   ]
  },
  {
   "cell_type": "code",
   "execution_count": 24,
   "id": "d1db0f5f",
   "metadata": {},
   "outputs": [
    {
     "data": {
      "text/plain": [
       "[1, 4, 9, 16, 25]"
      ]
     },
     "execution_count": 24,
     "metadata": {},
     "output_type": "execute_result"
    }
   ],
   "source": [
    "\n",
    "[x**2 for x in range(1, 6)]"
   ]
  },
  {
   "cell_type": "code",
   "execution_count": 26,
   "id": "0a0b507c",
   "metadata": {},
   "outputs": [
    {
     "data": {
      "text/plain": [
       "{1: 1, 2: 4, 3: 9, 4: 16, 5: 25}"
      ]
     },
     "execution_count": 26,
     "metadata": {},
     "output_type": "execute_result"
    }
   ],
   "source": [
    "# dict of squares for numbers from 1 to 5.\n",
    "squares_dict = {x: x**2 for x in range(1, 6)}\n",
    "\n",
    "squares_dict"
   ]
  },
  {
   "cell_type": "code",
   "execution_count": 27,
   "id": "6409f902",
   "metadata": {},
   "outputs": [],
   "source": [
    "\n",
    "# dict from 2 lists\n",
    "names = [\"Alice\", \"Bob\", \"Charlie\"]\n",
    "ages = [24, 30, 28]\n",
    "name_age_dict = {name: age for name, age in zip(names, ages)}\n"
   ]
  },
  {
   "cell_type": "code",
   "execution_count": 28,
   "id": "93521f55",
   "metadata": {},
   "outputs": [
    {
     "data": {
      "text/plain": [
       "{'Alice': 24, 'Bob': 30, 'Charlie': 28}"
      ]
     },
     "execution_count": 28,
     "metadata": {},
     "output_type": "execute_result"
    }
   ],
   "source": [
    "name_age_dict"
   ]
  },
  {
   "cell_type": "code",
   "execution_count": 29,
   "id": "5ec4ef8d",
   "metadata": {},
   "outputs": [
    {
     "data": {
      "text/plain": [
       "<zip at 0x107111c40>"
      ]
     },
     "execution_count": 29,
     "metadata": {},
     "output_type": "execute_result"
    }
   ],
   "source": [
    "zip(names, ages)"
   ]
  },
  {
   "cell_type": "code",
   "execution_count": 30,
   "id": "8ae1d812",
   "metadata": {},
   "outputs": [
    {
     "data": {
      "text/plain": [
       "('Alice', 24)"
      ]
     },
     "execution_count": 30,
     "metadata": {},
     "output_type": "execute_result"
    }
   ],
   "source": [
    "next(zip(names, ages))"
   ]
  },
  {
   "cell_type": "code",
   "execution_count": 34,
   "id": "3f4e0f8b",
   "metadata": {},
   "outputs": [
    {
     "data": {
      "text/plain": [
       "[('Alice', 24), ('Bob', 30), ('Charlie', 28)]"
      ]
     },
     "execution_count": 34,
     "metadata": {},
     "output_type": "execute_result"
    }
   ],
   "source": [
    "[(name, age) for name, age in zip(names, ages)]"
   ]
  },
  {
   "cell_type": "code",
   "execution_count": 35,
   "id": "403e5631",
   "metadata": {},
   "outputs": [
    {
     "data": {
      "text/plain": [
       "[('Alice', 24), ('Bob', 30), ('Charlie', 28)]"
      ]
     },
     "execution_count": 35,
     "metadata": {},
     "output_type": "execute_result"
    }
   ],
   "source": [
    "\n",
    "[args for args in zip(names, ages)]"
   ]
  },
  {
   "cell_type": "code",
   "execution_count": 36,
   "id": "0b627de7",
   "metadata": {},
   "outputs": [
    {
     "data": {
      "text/plain": [
       "[('Alice', 24), ('Bob', 30), ('Charlie', 28)]"
      ]
     },
     "execution_count": 36,
     "metadata": {},
     "output_type": "execute_result"
    }
   ],
   "source": [
    "\n",
    "list(zip(names, ages))"
   ]
  },
  {
   "cell_type": "code",
   "execution_count": 39,
   "id": "8bbd626c",
   "metadata": {},
   "outputs": [],
   "source": [
    "# list of even squares from 1 to 10.\n",
    "even_squares = [x**2 for x in range(1, 11) if x % 2 == 0]\n"
   ]
  },
  {
   "cell_type": "code",
   "execution_count": 42,
   "id": "d70b10c5",
   "metadata": {},
   "outputs": [
    {
     "data": {
      "text/plain": [
       "[4, 16, 36, 64, 100]"
      ]
     },
     "execution_count": 42,
     "metadata": {},
     "output_type": "execute_result"
    }
   ],
   "source": [
    "even_squares"
   ]
  },
  {
   "cell_type": "code",
   "execution_count": 47,
   "id": "e897ed5e",
   "metadata": {},
   "outputs": [
    {
     "data": {
      "text/plain": [
       "[2, 2]"
      ]
     },
     "execution_count": 47,
     "metadata": {},
     "output_type": "execute_result"
    }
   ],
   "source": [
    "a = [1, 2, 2,3 ,4 ,4 ]\n",
    "a = [item for item in a if item == 2]\n",
    "a"
   ]
  },
  {
   "cell_type": "code",
   "execution_count": 50,
   "id": "fdd001a8",
   "metadata": {},
   "outputs": [],
   "source": [
    "\n",
    "# list of numbers from 1 to 20 that are divisible by 2 or 3.\n",
    "divisible_by_2_or_3 = [x for x in range(1, 21) if (x % 2 == 0) or (x % 3 == 0)]\n"
   ]
  },
  {
   "cell_type": "code",
   "execution_count": 51,
   "id": "e7cf8971",
   "metadata": {},
   "outputs": [
    {
     "data": {
      "text/plain": [
       "[2, 3, 4, 6, 8, 9, 10, 12, 14, 15, 16, 18, 20]"
      ]
     },
     "execution_count": 51,
     "metadata": {},
     "output_type": "execute_result"
    }
   ],
   "source": [
    "divisible_by_2_or_3"
   ]
  },
  {
   "cell_type": "code",
   "execution_count": 52,
   "id": "ace3df70",
   "metadata": {},
   "outputs": [
    {
     "data": {
      "text/plain": [
       "{1: 'odd', 2: 'even', 3: 'odd', 4: 'even', 5: 'odd'}"
      ]
     },
     "execution_count": 52,
     "metadata": {},
     "output_type": "execute_result"
    }
   ],
   "source": [
    "# dict from a list of numbers where the key is the number and the value is \"even\" or \"odd\".\n",
    "odd_even_dict = {x: \"even\" if x % 2 == 0 else \"odd\" for x in range(1, 6)}\n",
    "odd_even_dict"
   ]
  },
  {
   "cell_type": "code",
   "execution_count": 56,
   "id": "047312dd",
   "metadata": {},
   "outputs": [
    {
     "data": {
      "text/plain": [
       "'odd'"
      ]
     },
     "execution_count": 56,
     "metadata": {},
     "output_type": "execute_result"
    }
   ],
   "source": [
    "x = 283811\n",
    "\n",
    "\"even\" if x % 2 == 0 else \"odd\""
   ]
  },
  {
   "cell_type": "code",
   "execution_count": 57,
   "id": "c4cac128",
   "metadata": {},
   "outputs": [
    {
     "data": {
      "text/plain": [
       "{'hello': 5, 'world': 5, 'python': 6, 'awesome': 7}"
      ]
     },
     "execution_count": 57,
     "metadata": {},
     "output_type": "execute_result"
    }
   ],
   "source": [
    "# dict with word lengths for words longer than 3 characters.\n",
    "words = [\"hello\", \"world\", \"python\", \"is\", \"awesome\"]\n",
    "word_length_dict = {word: len(word) for word in words if len(word) > 3}\n",
    "word_length_dict"
   ]
  },
  {
   "cell_type": "code",
   "execution_count": 58,
   "id": "34467e7c",
   "metadata": {},
   "outputs": [
    {
     "data": {
      "text/plain": [
       "[1, 3, 5, 7, 9]"
      ]
     },
     "execution_count": 58,
     "metadata": {},
     "output_type": "execute_result"
    }
   ],
   "source": [
    "# a flat list from a matrix (list of lists), containing only the elements that are not divisible by 2.\n",
    "matrix = [[1, 2, 3], [4, 5, 6], [7, 8, 9]]\n",
    "flat_list = [item for sublist in matrix for item in sublist if item % 2 != 0]\n",
    "flat_list"
   ]
  },
  {
   "cell_type": "code",
   "execution_count": 59,
   "id": "92f8c36c",
   "metadata": {},
   "outputs": [
    {
     "data": {
      "text/plain": [
       "[[1, 2, 3], [4, 5, 6], [7, 8, 9]]"
      ]
     },
     "execution_count": 59,
     "metadata": {},
     "output_type": "execute_result"
    }
   ],
   "source": [
    "matrix"
   ]
  },
  {
   "cell_type": "code",
   "execution_count": 61,
   "id": "4e1c3b8c",
   "metadata": {},
   "outputs": [
    {
     "data": {
      "text/plain": [
       "[4, 5, 6, 7, 8, 9]"
      ]
     },
     "execution_count": 61,
     "metadata": {},
     "output_type": "execute_result"
    }
   ],
   "source": [
    "[item for sublist in matrix for item in sublist if item > 3]"
   ]
  },
  {
   "cell_type": "code",
   "execution_count": 75,
   "id": "1edfd49a",
   "metadata": {},
   "outputs": [
    {
     "data": {
      "text/plain": [
       "{0: 2,\n",
       " 1: 3,\n",
       " 3: 5,\n",
       " 5: 7,\n",
       " 9: 11,\n",
       " 11: 13,\n",
       " 15: 17,\n",
       " 17: 19,\n",
       " 21: 23,\n",
       " 27: 29,\n",
       " 29: 31,\n",
       " 35: 37,\n",
       " 39: 41,\n",
       " 41: 43,\n",
       " 45: 47}"
      ]
     },
     "execution_count": 75,
     "metadata": {},
     "output_type": "execute_result"
    }
   ],
   "source": [
    "# dict where keys are indices of prime numbers in a given list and values are the prime numbers themselves.\n",
    "from math import sqrt\n",
    "\n",
    "numbers = range(2, 50)\n",
    "prime_numbers = {\n",
    "    i: num\n",
    "    for i, num in enumerate(numbers)\n",
    "    if all(num % d != 0 for d in range(2, int(sqrt(num)) + 1))\n",
    "}\n",
    "prime_numbers"
   ]
  },
  {
   "cell_type": "code",
   "execution_count": 79,
   "id": "b030a3f0",
   "metadata": {},
   "outputs": [
    {
     "name": "stdout",
     "output_type": "stream",
     "text": [
      "(0, 2)\n",
      "(1, 3)\n",
      "(2, 4)\n",
      "(3, 5)\n",
      "(4, 6)\n",
      "(5, 7)\n",
      "(6, 8)\n",
      "(7, 9)\n",
      "(8, 10)\n",
      "(9, 11)\n",
      "(10, 12)\n",
      "(11, 13)\n",
      "(12, 14)\n",
      "(13, 15)\n",
      "(14, 16)\n",
      "(15, 17)\n",
      "(16, 18)\n",
      "(17, 19)\n",
      "(18, 20)\n",
      "(19, 21)\n",
      "(20, 22)\n",
      "(21, 23)\n",
      "(22, 24)\n",
      "(23, 25)\n",
      "(24, 26)\n",
      "(25, 27)\n",
      "(26, 28)\n",
      "(27, 29)\n",
      "(28, 30)\n",
      "(29, 31)\n",
      "(30, 32)\n",
      "(31, 33)\n",
      "(32, 34)\n",
      "(33, 35)\n",
      "(34, 36)\n",
      "(35, 37)\n",
      "(36, 38)\n",
      "(37, 39)\n",
      "(38, 40)\n",
      "(39, 41)\n",
      "(40, 42)\n",
      "(41, 43)\n",
      "(42, 44)\n",
      "(43, 45)\n",
      "(44, 46)\n",
      "(45, 47)\n",
      "(46, 48)\n",
      "(47, 49)\n"
     ]
    }
   ],
   "source": [
    "for things in enumerate(numbers):\n",
    "    print(things)"
   ]
  },
  {
   "cell_type": "code",
   "execution_count": 80,
   "id": "d3eca52c",
   "metadata": {},
   "outputs": [
    {
     "name": "stdout",
     "output_type": "stream",
     "text": [
      "[2, 3, 4]\n"
     ]
    },
    {
     "data": {
      "text/plain": [
       "True"
      ]
     },
     "execution_count": 80,
     "metadata": {},
     "output_type": "execute_result"
    }
   ],
   "source": [
    "num = 17\n",
    "range_list = list(range(2, int(sqrt(num)) + 1))\n",
    "print(range_list)\n",
    "\n",
    "all(num % d != 0 for d in range_list)"
   ]
  },
  {
   "cell_type": "code",
   "execution_count": 83,
   "id": "96769c07",
   "metadata": {},
   "outputs": [
    {
     "data": {
      "text/plain": [
       "4.25"
      ]
     },
     "execution_count": 83,
     "metadata": {},
     "output_type": "execute_result"
    }
   ],
   "source": [
    "17 / 4"
   ]
  },
  {
   "cell_type": "code",
   "execution_count": 88,
   "id": "5400fdc7",
   "metadata": {},
   "outputs": [
    {
     "data": {
      "text/plain": [
       "False"
      ]
     },
     "execution_count": 88,
     "metadata": {},
     "output_type": "execute_result"
    }
   ],
   "source": [
    "all(i for i in range(5))"
   ]
  },
  {
   "cell_type": "code",
   "execution_count": 89,
   "id": "0885b740",
   "metadata": {},
   "outputs": [
    {
     "data": {
      "text/plain": [
       "False"
      ]
     },
     "execution_count": 89,
     "metadata": {},
     "output_type": "execute_result"
    }
   ],
   "source": [
    "\n",
    "all([i for i in range(5)])"
   ]
  },
  {
   "cell_type": "code",
   "execution_count": 91,
   "id": "fe4ef819",
   "metadata": {},
   "outputs": [
    {
     "data": {
      "text/plain": [
       "{'b': ['bat', 'bar', 'book'], 'a': ['apple', 'atom']}"
      ]
     },
     "execution_count": 91,
     "metadata": {},
     "output_type": "execute_result"
    }
   ],
   "source": [
    "# dict where each key is the first letter of a word and the value is a list of words starting with that letter.\n",
    "words = [\"apple\", \"bat\", \"bar\", \"atom\", \"book\"]\n",
    "grouped_words = {\n",
    "    k: [word for word in words if word[0] == k]\n",
    "    for k in set(word[0] for word in words)\n",
    "}\n",
    "grouped_words"
   ]
  },
  {
   "cell_type": "code",
   "execution_count": 107,
   "id": "79a54bc8",
   "metadata": {},
   "outputs": [
    {
     "data": {
      "text/plain": [
       "['a', 'b', 'b', 'a', 'b']"
      ]
     },
     "execution_count": 107,
     "metadata": {},
     "output_type": "execute_result"
    }
   ],
   "source": [
    "first_letters = [word[0] for word in words]\n",
    "first_letters"
   ]
  },
  {
   "cell_type": "code",
   "execution_count": 109,
   "id": "17ea01b0",
   "metadata": {},
   "outputs": [
    {
     "data": {
      "text/plain": [
       "{'a', 'b'}"
      ]
     },
     "execution_count": 109,
     "metadata": {},
     "output_type": "execute_result"
    }
   ],
   "source": [
    "set(first_letters)"
   ]
  },
  {
   "cell_type": "code",
   "execution_count": 110,
   "id": "ffe8b14b",
   "metadata": {},
   "outputs": [
    {
     "data": {
      "text/plain": [
       "{'a', 'b'}"
      ]
     },
     "execution_count": 110,
     "metadata": {},
     "output_type": "execute_result"
    }
   ],
   "source": [
    "\n",
    "set(word[0] for word in words)"
   ]
  },
  {
   "cell_type": "code",
   "execution_count": 111,
   "id": "310cc92f",
   "metadata": {},
   "outputs": [
    {
     "data": {
      "text/plain": [
       "18"
      ]
     },
     "execution_count": 111,
     "metadata": {},
     "output_type": "execute_result"
    }
   ],
   "source": [
    "max(i for i in range(19))"
   ]
  },
  {
   "cell_type": "code",
   "execution_count": 112,
   "id": "f4bdcc07",
   "metadata": {},
   "outputs": [
    {
     "data": {
      "text/plain": [
       "0"
      ]
     },
     "execution_count": 112,
     "metadata": {},
     "output_type": "execute_result"
    }
   ],
   "source": [
    "\n",
    "min(i for i in range(19))"
   ]
  },
  {
   "cell_type": "code",
   "execution_count": 113,
   "id": "926456c1",
   "metadata": {},
   "outputs": [
    {
     "data": {
      "text/plain": [
       "{'Alice_0': 88, 'Charlie_2': 90}"
      ]
     },
     "execution_count": 113,
     "metadata": {},
     "output_type": "execute_result"
    }
   ],
   "source": [
    "# dictionary mapping each name to their score only if the score is above a threshold\n",
    "data = [(\"Alice\", 88), (\"Bob\", 75), (\"Charlie\", 90), (\"Dave\", 65)]\n",
    "threshold = 80\n",
    "score_dict = {\n",
    "    f\"{name}_{i}\": score for i, (name, score) in enumerate(data) if score > threshold\n",
    "}\n",
    "score_dict"
   ]
  },
  {
   "cell_type": "code",
   "execution_count": 115,
   "id": "e8ec94cb",
   "metadata": {},
   "outputs": [
    {
     "data": {
      "text/plain": [
       "'dusifh_28.00'"
      ]
     },
     "execution_count": 115,
     "metadata": {},
     "output_type": "execute_result"
    }
   ],
   "source": [
    "a = \"dusifh\"\n",
    "b = 28\n",
    "\n",
    "f\"{a}_{b:.2f}\""
   ]
  },
  {
   "cell_type": "code",
   "execution_count": 116,
   "id": "20c97530",
   "metadata": {},
   "outputs": [
    {
     "data": {
      "text/plain": [
       "'DUSIFH_28.00'"
      ]
     },
     "execution_count": 116,
     "metadata": {},
     "output_type": "execute_result"
    }
   ],
   "source": [
    "\n",
    "f\"{a.upper()}_{b:.2f}\""
   ]
  },
  {
   "cell_type": "code",
   "execution_count": 117,
   "id": "97f308a8",
   "metadata": {},
   "outputs": [
    {
     "data": {
      "text/plain": [
       "'DUSIFH_28.00'"
      ]
     },
     "execution_count": 117,
     "metadata": {},
     "output_type": "execute_result"
    }
   ],
   "source": [
    "\n",
    "f\"{f'{a.upper()}'}_{b:.2f}\""
   ]
  },
  {
   "cell_type": "code",
   "execution_count": 118,
   "id": "6dc6ac9b",
   "metadata": {},
   "outputs": [
    {
     "ename": "SyntaxError",
     "evalue": "f-string expression part cannot include a backslash (2811504567.py, line 1)",
     "output_type": "error",
     "traceback": [
      "\u001b[0;36m  Input \u001b[0;32mIn [118]\u001b[0;36m\u001b[0m\n\u001b[0;31m    f\"{f'{a.upper()}\\n'}_{b:.2f}\"\u001b[0m\n\u001b[0m                                 ^\u001b[0m\n\u001b[0;31mSyntaxError\u001b[0m\u001b[0;31m:\u001b[0m f-string expression part cannot include a backslash\n"
     ]
    }
   ],
   "source": [
    "\n",
    "f\"{f'{a.upper()}\\n'}_{b:.2f}\""
   ]
  },
  {
   "cell_type": "code",
   "execution_count": 119,
   "id": "3bc6515f",
   "metadata": {},
   "outputs": [
    {
     "ename": "SyntaxError",
     "evalue": "f-string expression part cannot include a backslash (93574801.py, line 1)",
     "output_type": "error",
     "traceback": [
      "\u001b[0;36m  Input \u001b[0;32mIn [119]\u001b[0;36m\u001b[0m\n\u001b[0;31m    f\"{a.upper()+'\\n'}_{b:.2f}\"\u001b[0m\n\u001b[0m                               ^\u001b[0m\n\u001b[0;31mSyntaxError\u001b[0m\u001b[0;31m:\u001b[0m f-string expression part cannot include a backslash\n"
     ]
    }
   ],
   "source": [
    "\n",
    "f\"{a.upper()+'\\n'}_{b:.2f}\""
   ]
  },
  {
   "cell_type": "code",
   "execution_count": 122,
   "id": "a610c446",
   "metadata": {},
   "outputs": [
    {
     "name": "stdout",
     "output_type": "stream",
     "text": [
      "Alice 88\n",
      "Bob 75\n",
      "Charlie 90\n",
      "Dave 65\n"
     ]
    }
   ],
   "source": [
    "for i, (name, score) in enumerate(data):\n",
    "    print(name, score)"
   ]
  },
  {
   "cell_type": "code",
   "execution_count": 123,
   "id": "2de85cb1",
   "metadata": {},
   "outputs": [],
   "source": [
    "# dictionary where the outer keys are unique categories from the original list, the inner keys are items filtered by a condition, and the values are transformed by a lambda function\n",
    "records = [\n",
    "    {\"category\": \"A\", \"value\": 10},\n",
    "    {\"category\": \"B\", \"value\": 15},\n",
    "    {\"category\": \"A\", \"value\": 20},\n",
    "    {\"category\": \"B\", \"value\": 25},\n",
    "]\n",
    "transformed = {\n",
    "    k: {\n",
    "        (d[\"value\"], i): (lambda x: x**2)(d[\"value\"])\n",
    "        for i, d in enumerate(records)\n",
    "        if d[\"category\"] == k and d[\"value\"] > 10\n",
    "    }\n",
    "    for k in set(d[\"category\"] for d in records)\n",
    "}"
   ]
  },
  {
   "cell_type": "code",
   "execution_count": 124,
   "id": "e4d64dd9",
   "metadata": {},
   "outputs": [
    {
     "data": {
      "text/plain": [
       "[{'category': 'A', 'value': 10},\n",
       " {'category': 'B', 'value': 15},\n",
       " {'category': 'A', 'value': 20},\n",
       " {'category': 'B', 'value': 25}]"
      ]
     },
     "execution_count": 124,
     "metadata": {},
     "output_type": "execute_result"
    }
   ],
   "source": [
    "records"
   ]
  },
  {
   "cell_type": "code",
   "execution_count": 125,
   "id": "41a189e5",
   "metadata": {},
   "outputs": [
    {
     "data": {
      "text/plain": [
       "{'B': {(15, 1): 225, (25, 3): 625}, 'A': {(20, 2): 400}}"
      ]
     },
     "execution_count": 125,
     "metadata": {},
     "output_type": "execute_result"
    }
   ],
   "source": [
    "transformed"
   ]
  },
  {
   "cell_type": "code",
   "execution_count": 126,
   "id": "fcd9b9d3",
   "metadata": {},
   "outputs": [
    {
     "data": {
      "text/plain": [
       "{(2, 4): 'what the hell'}"
      ]
     },
     "execution_count": 126,
     "metadata": {},
     "output_type": "execute_result"
    }
   ],
   "source": [
    "{(2, 4): \"what the hell\"}"
   ]
  },
  {
   "cell_type": "code",
   "execution_count": 127,
   "id": "b8fccd34",
   "metadata": {},
   "outputs": [
    {
     "data": {
      "text/plain": [
       "'what the hell'"
      ]
     },
     "execution_count": 127,
     "metadata": {},
     "output_type": "execute_result"
    }
   ],
   "source": [
    "a =  {(2, 4): \"what the hell\"}\n",
    "a[(2, 4)]"
   ]
  },
  {
   "cell_type": "code",
   "execution_count": 170,
   "id": "5488f1b9",
   "metadata": {},
   "outputs": [
    {
     "data": {
      "text/plain": [
       "3516302870623680066"
      ]
     },
     "execution_count": 170,
     "metadata": {},
     "output_type": "execute_result"
    }
   ],
   "source": [
    "hash((2, 4))"
   ]
  },
  {
   "cell_type": "code",
   "execution_count": 172,
   "id": "fc818c1f",
   "metadata": {},
   "outputs": [],
   "source": [
    "from dataclasses import dataclass\n",
    "\n",
    "@dataclass\n",
    "class Item:\n",
    "    cost: str\n",
    "    name: str\n",
    "        \n",
    "    def __hash__(self):\n",
    "        return hash(self.name)\n",
    "        \n",
    "kale = Item(cost=2.45, name=\"kale\")\n",
    "apple = Item(cost=0.5, name=\"apple\")"
   ]
  },
  {
   "cell_type": "code",
   "execution_count": 173,
   "id": "cdd32660",
   "metadata": {},
   "outputs": [],
   "source": [
    "cart = [kale, kale, apple]"
   ]
  },
  {
   "cell_type": "code",
   "execution_count": 174,
   "id": "cb21f553",
   "metadata": {},
   "outputs": [
    {
     "data": {
      "text/plain": [
       "443441884163737333"
      ]
     },
     "execution_count": 174,
     "metadata": {},
     "output_type": "execute_result"
    }
   ],
   "source": [
    "hash(kale)"
   ]
  },
  {
   "cell_type": "code",
   "execution_count": 175,
   "id": "aea4c863",
   "metadata": {},
   "outputs": [
    {
     "data": {
      "text/plain": [
       "[Item(cost=2.45, name='kale'),\n",
       " Item(cost=2.45, name='kale'),\n",
       " Item(cost=0.5, name='apple')]"
      ]
     },
     "execution_count": 175,
     "metadata": {},
     "output_type": "execute_result"
    }
   ],
   "source": [
    "cart"
   ]
  },
  {
   "cell_type": "code",
   "execution_count": 176,
   "id": "f71d1094",
   "metadata": {},
   "outputs": [],
   "source": [
    "item_counts = {item: len([i for i in cart if i == item]) for item in cart}"
   ]
  },
  {
   "cell_type": "code",
   "execution_count": 177,
   "id": "359efe63",
   "metadata": {},
   "outputs": [
    {
     "data": {
      "text/plain": [
       "{Item(cost=2.45, name='kale'): 2, Item(cost=0.5, name='apple'): 1}"
      ]
     },
     "execution_count": 177,
     "metadata": {},
     "output_type": "execute_result"
    }
   ],
   "source": [
    "item_counts"
   ]
  },
  {
   "cell_type": "code",
   "execution_count": 178,
   "id": "6a26b4b2",
   "metadata": {},
   "outputs": [
    {
     "data": {
      "text/plain": [
       "2"
      ]
     },
     "execution_count": 178,
     "metadata": {},
     "output_type": "execute_result"
    }
   ],
   "source": [
    "item_counts[kale]"
   ]
  },
  {
   "cell_type": "code",
   "execution_count": 182,
   "id": "b89b5de7",
   "metadata": {},
   "outputs": [
    {
     "data": {
      "text/plain": [
       "0"
      ]
     },
     "execution_count": 182,
     "metadata": {},
     "output_type": "execute_result"
    }
   ],
   "source": [
    "(lambda x: x**2)(0)"
   ]
  },
  {
   "cell_type": "code",
   "execution_count": 183,
   "id": "3913ca23",
   "metadata": {},
   "outputs": [],
   "source": [
    "func = lambda x, y: x * y"
   ]
  },
  {
   "cell_type": "code",
   "execution_count": 184,
   "id": "a4dc8a5c",
   "metadata": {},
   "outputs": [
    {
     "data": {
      "text/plain": [
       "2"
      ]
     },
     "execution_count": 184,
     "metadata": {},
     "output_type": "execute_result"
    }
   ],
   "source": [
    "func(1, 2)"
   ]
  },
  {
   "cell_type": "code",
   "execution_count": null,
   "id": "9a025d0b",
   "metadata": {},
   "outputs": [],
   "source": []
  },
  {
   "cell_type": "code",
   "execution_count": null,
   "id": "09b147fc",
   "metadata": {},
   "outputs": [],
   "source": []
  }
 ],
 "metadata": {
  "kernelspec": {
   "display_name": "Python 3 (ipykernel)",
   "language": "python",
   "name": "python3"
  },
  "language_info": {
   "codemirror_mode": {
    "name": "ipython",
    "version": 3
   },
   "file_extension": ".py",
   "mimetype": "text/x-python",
   "name": "python",
   "nbconvert_exporter": "python",
   "pygments_lexer": "ipython3",
   "version": "3.9.18"
  }
 },
 "nbformat": 4,
 "nbformat_minor": 5
}
